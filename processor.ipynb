{
 "cells": [
  {
   "cell_type": "code",
   "execution_count": null,
   "id": "fcaa7c7c",
   "metadata": {},
   "outputs": [],
   "source": [
    "import geopandas as gpd"
   ]
  },
  {
   "cell_type": "code",
   "execution_count": null,
   "id": "201ddd29",
   "metadata": {},
   "outputs": [],
   "source": [
    "ken_bound = gpd.read_file(\"ken_bound.geojson\")\n",
    "# ken_bound.to_crs(epsg=4326, inplace=True)\n",
    "interland_bound = gpd.read_file(\"interland_bound.geojson\")\n",
    "# interland_bound.to_crs(epsg=4326, inplace=True)"
   ]
  },
  {
   "cell_type": "code",
   "execution_count": null,
   "id": "ff05aa67",
   "metadata": {},
   "outputs": [],
   "source": [
    "print(ken_bound.crs)\n",
    "print(interland_bound.crs)"
   ]
  },
  {
   "cell_type": "code",
   "execution_count": null,
   "id": "2c535359",
   "metadata": {},
   "outputs": [],
   "source": [
    "ken_bound.to_file(\"ken_bound.geojson\", driver=\"GeoJSON\")\n",
    "interland_bound.to_file(\"interland_bound.geojson\", driver=\"GeoJSON\")"
   ]
  },
  {
   "cell_type": "code",
   "execution_count": 1,
   "id": "db3ed62a",
   "metadata": {},
   "outputs": [],
   "source": [
    "import leafmap"
   ]
  },
  {
   "cell_type": "code",
   "execution_count": 3,
   "id": "23c60afc",
   "metadata": {},
   "outputs": [],
   "source": [
    "m = leafmap.Map(\n",
    "    draw_control=False,\n",
    "    measure_control=False,\n",
    "    fullscreen_control=False,\n",
    "    attribution_control=True,\n",
    "    control_scale=False,\n",
    "    zoom=6,\n",
    "    prefer_canvas=True,\n",
    "    zoom_control=False,\n",
    ")"
   ]
  },
  {
   "cell_type": "code",
   "execution_count": null,
   "id": "c99c7440",
   "metadata": {},
   "outputs": [],
   "source": [
    "m.add_raster(\"mukuru.tif\", layer_name=\"AH\")"
   ]
  },
  {
   "cell_type": "code",
   "execution_count": 5,
   "id": "c87cddc4",
   "metadata": {},
   "outputs": [
    {
     "data": {
      "application/vnd.jupyter.widget-view+json": {
       "model_id": "c4dad404345f41849534b112a3ddc1d4",
       "version_major": 2,
       "version_minor": 0
      },
      "text/plain": [
       "Map(center=[-1.321836, 36.8638725], controls=(AttributionControl(options=['position', 'prefix'], position='bot…"
      ]
     },
     "execution_count": 5,
     "metadata": {},
     "output_type": "execute_result"
    }
   ],
   "source": [
    "m"
   ]
  },
  {
   "cell_type": "code",
   "execution_count": null,
   "id": "a9cacb81",
   "metadata": {},
   "outputs": [],
   "source": [
    "m.save(\"raster.html\")"
   ]
  },
  {
   "cell_type": "markdown",
   "id": "10649cb2",
   "metadata": {},
   "source": []
  },
  {
   "cell_type": "markdown",
   "id": "dd3d2e31",
   "metadata": {},
   "source": []
  },
  {
   "cell_type": "code",
   "execution_count": 1,
   "id": "7a496340",
   "metadata": {},
   "outputs": [],
   "source": [
    "import folium\n",
    "import rioxarray\n",
    "import xarray as xr\n",
    "import leafmap.foliumap as leafmap"
   ]
  },
  {
   "cell_type": "code",
   "execution_count": 2,
   "id": "c38ed5c0",
   "metadata": {},
   "outputs": [],
   "source": [
    "m = leafmap.Map(\n",
    "    draw_control=False,\n",
    "    measure_control=False,\n",
    "    fullscreen_control=False,\n",
    "    attribution_control=True,\n",
    "    control_scale=False,\n",
    "    zoom=6,\n",
    "    prefer_canvas=True,\n",
    "    zoom_control=False,\n",
    ")"
   ]
  },
  {
   "cell_type": "code",
   "execution_count": 3,
   "id": "01b90fb4",
   "metadata": {},
   "outputs": [
    {
     "data": {
      "text/html": [
       "<iframe srcdoc=\"&lt;!DOCTYPE html&gt;\n",
       "&lt;html&gt;\n",
       "&lt;head&gt;\n",
       "    \n",
       "    &lt;meta http-equiv=&quot;content-type&quot; content=&quot;text/html; charset=UTF-8&quot; /&gt;\n",
       "    &lt;script src=&quot;https://cdn.jsdelivr.net/npm/leaflet@1.9.3/dist/leaflet.js&quot;&gt;&lt;/script&gt;\n",
       "    &lt;script src=&quot;https://code.jquery.com/jquery-3.7.1.min.js&quot;&gt;&lt;/script&gt;\n",
       "    &lt;script src=&quot;https://cdn.jsdelivr.net/npm/bootstrap@5.2.2/dist/js/bootstrap.bundle.min.js&quot;&gt;&lt;/script&gt;\n",
       "    &lt;script src=&quot;https://cdnjs.cloudflare.com/ajax/libs/Leaflet.awesome-markers/2.0.2/leaflet.awesome-markers.js&quot;&gt;&lt;/script&gt;\n",
       "    &lt;link rel=&quot;stylesheet&quot; href=&quot;https://cdn.jsdelivr.net/npm/leaflet@1.9.3/dist/leaflet.css&quot;/&gt;\n",
       "    &lt;link rel=&quot;stylesheet&quot; href=&quot;https://cdn.jsdelivr.net/npm/bootstrap@5.2.2/dist/css/bootstrap.min.css&quot;/&gt;\n",
       "    &lt;link rel=&quot;stylesheet&quot; href=&quot;https://netdna.bootstrapcdn.com/bootstrap/3.0.0/css/bootstrap-glyphicons.css&quot;/&gt;\n",
       "    &lt;link rel=&quot;stylesheet&quot; href=&quot;https://cdn.jsdelivr.net/npm/@fortawesome/fontawesome-free@6.2.0/css/all.min.css&quot;/&gt;\n",
       "    &lt;link rel=&quot;stylesheet&quot; href=&quot;https://cdnjs.cloudflare.com/ajax/libs/Leaflet.awesome-markers/2.0.2/leaflet.awesome-markers.css&quot;/&gt;\n",
       "    &lt;link rel=&quot;stylesheet&quot; href=&quot;https://cdn.jsdelivr.net/gh/python-visualization/folium/folium/templates/leaflet.awesome.rotate.min.css&quot;/&gt;\n",
       "    \n",
       "            &lt;meta name=&quot;viewport&quot; content=&quot;width=device-width,\n",
       "                initial-scale=1.0, maximum-scale=1.0, user-scalable=no&quot; /&gt;\n",
       "            &lt;style&gt;\n",
       "                #map_a29c2cefe6e993be3640f5f01d2159cf {\n",
       "                    position: relative;\n",
       "                    width: 100.0%;\n",
       "                    height: 100.0%;\n",
       "                    left: 0.0%;\n",
       "                    top: 0.0%;\n",
       "                }\n",
       "                .leaflet-container { font-size: 1rem; }\n",
       "            &lt;/style&gt;\n",
       "\n",
       "            &lt;style&gt;html, body {\n",
       "                width: 100%;\n",
       "                height: 100%;\n",
       "                margin: 0;\n",
       "                padding: 0;\n",
       "            }\n",
       "            &lt;/style&gt;\n",
       "\n",
       "            &lt;style&gt;#map {\n",
       "                position:absolute;\n",
       "                top:0;\n",
       "                bottom:0;\n",
       "                right:0;\n",
       "                left:0;\n",
       "                }\n",
       "            &lt;/style&gt;\n",
       "\n",
       "            &lt;script&gt;\n",
       "                L_NO_TOUCH = false;\n",
       "                L_DISABLE_3D = false;\n",
       "            &lt;/script&gt;\n",
       "\n",
       "        \n",
       "    &lt;script src=&quot;https://unpkg.com/leaflet-control-geocoder/dist/Control.Geocoder.js&quot;&gt;&lt;/script&gt;\n",
       "    &lt;link rel=&quot;stylesheet&quot; href=&quot;https://unpkg.com/leaflet-control-geocoder/dist/Control.Geocoder.css&quot;/&gt;\n",
       "    &lt;script src=&quot;https://cdn.jsdelivr.net/gh/digidem/leaflet-side-by-side@2.0.0/leaflet-side-by-side.min.js&quot;&gt;&lt;/script&gt;\n",
       "&lt;/head&gt;\n",
       "&lt;body&gt;\n",
       "    \n",
       "    \n",
       "            &lt;div class=&quot;folium-map&quot; id=&quot;map_a29c2cefe6e993be3640f5f01d2159cf&quot; &gt;&lt;/div&gt;\n",
       "        \n",
       "&lt;/body&gt;\n",
       "&lt;script&gt;\n",
       "    \n",
       "    \n",
       "            var map_a29c2cefe6e993be3640f5f01d2159cf = L.map(\n",
       "                &quot;map_a29c2cefe6e993be3640f5f01d2159cf&quot;,\n",
       "                {\n",
       "                    center: [20.0, 0.0],\n",
       "                    crs: L.CRS.EPSG3857,\n",
       "                    ...{\n",
       "  &quot;zoom&quot;: 6,\n",
       "  &quot;zoomControl&quot;: false,\n",
       "  &quot;preferCanvas&quot;: true,\n",
       "  &quot;drawControl&quot;: false,\n",
       "  &quot;measureControl&quot;: false,\n",
       "  &quot;fullscreenControl&quot;: false,\n",
       "  &quot;attributionControl&quot;: true,\n",
       "  &quot;drawExport&quot;: false,\n",
       "  &quot;layersControl&quot;: true,\n",
       "}\n",
       "\n",
       "                }\n",
       "            );\n",
       "            L.control.scale().addTo(map_a29c2cefe6e993be3640f5f01d2159cf);\n",
       "\n",
       "            \n",
       "\n",
       "        \n",
       "    \n",
       "            var tile_layer_6c985ca12b52ac6f9542184f044263fe = L.tileLayer(\n",
       "                &quot;https://tile.openstreetmap.org/{z}/{x}/{y}.png&quot;,\n",
       "                {\n",
       "  &quot;minZoom&quot;: 0,\n",
       "  &quot;maxZoom&quot;: 24,\n",
       "  &quot;maxNativeZoom&quot;: 24,\n",
       "  &quot;noWrap&quot;: false,\n",
       "  &quot;attribution&quot;: &quot;\\u0026copy; \\u003ca href=\\&quot;https://www.openstreetmap.org/copyright\\&quot;\\u003eOpenStreetMap\\u003c/a\\u003e contributors&quot;,\n",
       "  &quot;subdomains&quot;: &quot;abc&quot;,\n",
       "  &quot;detectRetina&quot;: false,\n",
       "  &quot;tms&quot;: false,\n",
       "  &quot;opacity&quot;: 1,\n",
       "}\n",
       "\n",
       "            );\n",
       "        \n",
       "    \n",
       "            tile_layer_6c985ca12b52ac6f9542184f044263fe.addTo(map_a29c2cefe6e993be3640f5f01d2159cf);\n",
       "        \n",
       "    \n",
       "\n",
       "            var geocoderOpts_geocoder_d5cc069ddb2b8108dd4752f1df5ba4ba = {\n",
       "  &quot;collapsed&quot;: true,\n",
       "  &quot;position&quot;: &quot;topleft&quot;,\n",
       "  &quot;defaultMarkGeocode&quot;: true,\n",
       "  &quot;zoom&quot;: 11,\n",
       "  &quot;provider&quot;: &quot;nominatim&quot;,\n",
       "  &quot;providerOptions&quot;: {\n",
       "},\n",
       "};\n",
       "\n",
       "            // note: geocoder name should start with lowercase\n",
       "            var geocoderName_geocoder_d5cc069ddb2b8108dd4752f1df5ba4ba = geocoderOpts_geocoder_d5cc069ddb2b8108dd4752f1df5ba4ba[&quot;provider&quot;];\n",
       "\n",
       "            var customGeocoder_geocoder_d5cc069ddb2b8108dd4752f1df5ba4ba = L.Control.Geocoder[ geocoderName_geocoder_d5cc069ddb2b8108dd4752f1df5ba4ba ](\n",
       "                geocoderOpts_geocoder_d5cc069ddb2b8108dd4752f1df5ba4ba[&#x27;providerOptions&#x27;]\n",
       "            );\n",
       "            geocoderOpts_geocoder_d5cc069ddb2b8108dd4752f1df5ba4ba[&quot;geocoder&quot;] = customGeocoder_geocoder_d5cc069ddb2b8108dd4752f1df5ba4ba;\n",
       "\n",
       "            L.Control.geocoder(\n",
       "                geocoderOpts_geocoder_d5cc069ddb2b8108dd4752f1df5ba4ba\n",
       "            ).on(&#x27;markgeocode&#x27;, function(e) {\n",
       "                var zoom = geocoderOpts_geocoder_d5cc069ddb2b8108dd4752f1df5ba4ba[&#x27;zoom&#x27;] || map_a29c2cefe6e993be3640f5f01d2159cf.getZoom();\n",
       "                map_a29c2cefe6e993be3640f5f01d2159cf.setView(e.geocode.center, zoom);\n",
       "            }).addTo(map_a29c2cefe6e993be3640f5f01d2159cf);\n",
       "\n",
       "        \n",
       "    \n",
       "            map_a29c2cefe6e993be3640f5f01d2159cf.fitBounds(\n",
       "                [[20, 0], [20, 0]],\n",
       "                {&quot;maxZoom&quot;: 6}\n",
       "            );\n",
       "        \n",
       "    \n",
       "            var tile_layer_4b0091291cf7005b52bf4397a3334b82 = L.tileLayer(\n",
       "                &quot;http://localhost:54547/api/tiles/{z}/{x}/{y}.png?\\u0026filename=z%3A%5Ccodebase%5Cwebmap%5Cmukuru.tif&quot;,\n",
       "                {\n",
       "  &quot;minZoom&quot;: 0,\n",
       "  &quot;maxZoom&quot;: 30,\n",
       "  &quot;maxNativeZoom&quot;: 30,\n",
       "  &quot;noWrap&quot;: false,\n",
       "  &quot;attribution&quot;: &quot;Raster file served by \\u003ca href=\\u0027https://github.com/banesullivan/localtileserver\\u0027 target=\\u0027_blank\\u0027\\u003elocaltileserver\\u003c/a\\u003e.&quot;,\n",
       "  &quot;subdomains&quot;: &quot;abc&quot;,\n",
       "  &quot;detectRetina&quot;: false,\n",
       "  &quot;tms&quot;: false,\n",
       "  &quot;opacity&quot;: 1,\n",
       "  &quot;bounds&quot;: [[-1.325812, 36.859237], [-1.31786, 36.868508]],\n",
       "  &quot;corsAll&quot;: false,\n",
       "}\n",
       "\n",
       "            );\n",
       "        \n",
       "    \n",
       "            tile_layer_4b0091291cf7005b52bf4397a3334b82.addTo(map_a29c2cefe6e993be3640f5f01d2159cf);\n",
       "        \n",
       "    \n",
       "            var tile_layer_4399c472f4058018e8b0a4b88d715307 = L.tileLayer(\n",
       "                &quot;https://mt1.google.com/vt/lyrs=y\\u0026x={x}\\u0026y={y}\\u0026z={z}&quot;,\n",
       "                {\n",
       "  &quot;minZoom&quot;: 0,\n",
       "  &quot;maxZoom&quot;: 30,\n",
       "  &quot;maxNativeZoom&quot;: 30,\n",
       "  &quot;noWrap&quot;: false,\n",
       "  &quot;attribution&quot;: &quot; &quot;,\n",
       "  &quot;subdomains&quot;: &quot;abc&quot;,\n",
       "  &quot;detectRetina&quot;: false,\n",
       "  &quot;tms&quot;: false,\n",
       "  &quot;opacity&quot;: 1,\n",
       "  &quot;layerName&quot;: &quot;Right Layer&quot;,\n",
       "}\n",
       "\n",
       "            );\n",
       "        \n",
       "    \n",
       "            tile_layer_4399c472f4058018e8b0a4b88d715307.addTo(map_a29c2cefe6e993be3640f5f01d2159cf);\n",
       "        \n",
       "    \n",
       "            var side_by_side_layers_b18916a50dd9cc7c96b5ac45f4822fd1 = L.control.sideBySide(\n",
       "                tile_layer_4b0091291cf7005b52bf4397a3334b82, tile_layer_4399c472f4058018e8b0a4b88d715307\n",
       "            ).addTo(map_a29c2cefe6e993be3640f5f01d2159cf);\n",
       "        \n",
       "    \n",
       "            map_a29c2cefe6e993be3640f5f01d2159cf.fitBounds(\n",
       "                [[-1.325812, 36.859237], [-1.31786, 36.868508]],\n",
       "                {}\n",
       "            );\n",
       "        \n",
       "    \n",
       "            var layer_control_2df2da0336b046471adf9e3a258640d8_layers = {\n",
       "                base_layers : {\n",
       "                    &quot;openstreetmap&quot; : tile_layer_6c985ca12b52ac6f9542184f044263fe,\n",
       "                },\n",
       "                overlays :  {\n",
       "                    &quot;Left Layer&quot; : tile_layer_4b0091291cf7005b52bf4397a3334b82,\n",
       "                    &quot;Right Layer&quot; : tile_layer_4399c472f4058018e8b0a4b88d715307,\n",
       "                },\n",
       "            };\n",
       "            let layer_control_2df2da0336b046471adf9e3a258640d8 = L.control.layers(\n",
       "                layer_control_2df2da0336b046471adf9e3a258640d8_layers.base_layers,\n",
       "                layer_control_2df2da0336b046471adf9e3a258640d8_layers.overlays,\n",
       "                {\n",
       "  &quot;position&quot;: &quot;topright&quot;,\n",
       "  &quot;collapsed&quot;: true,\n",
       "  &quot;autoZIndex&quot;: true,\n",
       "}\n",
       "            ).addTo(map_a29c2cefe6e993be3640f5f01d2159cf);\n",
       "\n",
       "        \n",
       "&lt;/script&gt;\n",
       "&lt;/html&gt;\" width=\"100%\" height=\"600\"style=\"border:none !important;\" \"allowfullscreen\" \"webkitallowfullscreen\" \"mozallowfullscreen\"></iframe>"
      ],
      "text/plain": [
       "<leafmap.foliumap.Map at 0x24c88815940>"
      ]
     },
     "execution_count": 3,
     "metadata": {},
     "output_type": "execute_result"
    }
   ],
   "source": [
    "m.split_map(\n",
    "    left_layer=\"mukuru.tif\",\n",
    "    right_layer=\"https://mt1.google.com/vt/lyrs=y&x={x}&y={y}&z={z}\",\n",
    ")\n",
    "m"
   ]
  },
  {
   "cell_type": "code",
   "execution_count": 4,
   "id": "1a3863d4",
   "metadata": {},
   "outputs": [],
   "source": [
    "m.save(\"raster.html\")"
   ]
  }
 ],
 "metadata": {
  "kernelspec": {
   "display_name": "webmap",
   "language": "python",
   "name": "python3"
  },
  "language_info": {
   "codemirror_mode": {
    "name": "ipython",
    "version": 3
   },
   "file_extension": ".py",
   "mimetype": "text/x-python",
   "name": "python",
   "nbconvert_exporter": "python",
   "pygments_lexer": "ipython3",
   "version": "3.13.5"
  }
 },
 "nbformat": 4,
 "nbformat_minor": 5
}
