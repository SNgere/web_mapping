{
 "cells": [
  {
   "cell_type": "code",
   "execution_count": 1,
   "id": "fcaa7c7c",
   "metadata": {},
   "outputs": [],
   "source": [
    "import geopandas as gpd"
   ]
  },
  {
   "cell_type": "code",
   "execution_count": 2,
   "id": "201ddd29",
   "metadata": {},
   "outputs": [],
   "source": [
    "ken_bound = gpd.read_file(\"ken_bound.geojson\")\n",
    "# ken_bound.to_crs(epsg=4326, inplace=True)\n",
    "interland_bound = gpd.read_file(\"interland_bound.geojson\")\n",
    "# interland_bound.to_crs(epsg=4326, inplace=True)"
   ]
  },
  {
   "cell_type": "code",
   "execution_count": 3,
   "id": "ff05aa67",
   "metadata": {},
   "outputs": [
    {
     "name": "stdout",
     "output_type": "stream",
     "text": [
      "EPSG:4326\n",
      "EPSG:4326\n"
     ]
    }
   ],
   "source": [
    "print(ken_bound.crs)\n",
    "print(interland_bound.crs)"
   ]
  },
  {
   "cell_type": "code",
   "execution_count": 4,
   "id": "2c535359",
   "metadata": {},
   "outputs": [],
   "source": [
    "ken_bound.to_file(\"ken_bound.geojson\", driver=\"GeoJSON\")\n",
    "interland_bound.to_file(\"interland_bound.geojson\", driver=\"GeoJSON\")"
   ]
  }
 ],
 "metadata": {
  "kernelspec": {
   "display_name": "webmap",
   "language": "python",
   "name": "python3"
  },
  "language_info": {
   "codemirror_mode": {
    "name": "ipython",
    "version": 3
   },
   "file_extension": ".py",
   "mimetype": "text/x-python",
   "name": "python",
   "nbconvert_exporter": "python",
   "pygments_lexer": "ipython3",
   "version": "3.13.5"
  }
 },
 "nbformat": 4,
 "nbformat_minor": 5
}
