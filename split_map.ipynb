{
 "cells": [
  {
   "cell_type": "code",
   "execution_count": 1,
   "id": "25988faa",
   "metadata": {},
   "outputs": [],
   "source": [
    "import folium\n",
    "import rioxarray\n",
    "import xarray as xr\n",
    "import leafmap.foliumap as leafmap"
   ]
  },
  {
   "cell_type": "code",
   "execution_count": 2,
   "id": "004f41a2",
   "metadata": {},
   "outputs": [],
   "source": [
    "m = leafmap.Map(\n",
    "    draw_control=False,\n",
    "    measure_control=False,\n",
    "    fullscreen_control=False,\n",
    "    attribution_control=True,\n",
    "    control_scale=False,\n",
    "    zoom=6,\n",
    "    prefer_canvas=True,\n",
    "    zoom_control=False,\n",
    "    tiles=None,\n",
    "    search_control=False\n",
    ")"
   ]
  },
  {
   "cell_type": "code",
   "execution_count": 3,
   "id": "8486f902",
   "metadata": {},
   "outputs": [
    {
     "data": {
      "text/plain": [
       "<folium.raster_layers.TileLayer at 0x238f5e23350>"
      ]
     },
     "execution_count": 3,
     "metadata": {},
     "output_type": "execute_result"
    }
   ],
   "source": [
    "folium.TileLayer(\n",
    "    \"https://mt1.google.com/vt/lyrs=y&x={x}&y={y}&z={z}\",\n",
    "    name=\"Satellite\",\n",
    "    show=True,\n",
    "    control=False,\n",
    "    attr=\"Google\",\n",
    "    opacity=0.5,\n",
    ").add_to(m)"
   ]
  },
  {
   "cell_type": "code",
   "execution_count": 4,
   "id": "1d2946d1",
   "metadata": {},
   "outputs": [
    {
     "data": {
      "text/plain": [
       "<folium.features.GeoJson at 0x238f5cc6120>"
      ]
     },
     "execution_count": 4,
     "metadata": {},
     "output_type": "execute_result"
    }
   ],
   "source": [
    "folium.GeoJson(\n",
    "    \"mukuru.geojson\",\n",
    "    style_function=lambda feature: {\n",
    "        \"color\": \"#FF0000\",\n",
    "        \"weight\": 3,\n",
    "    },\n",
    "    control=False,\n",
    ").add_to(m)"
   ]
  },
  {
   "cell_type": "code",
   "execution_count": 5,
   "id": "af08e417",
   "metadata": {},
   "outputs": [],
   "source": [
    "params = {\n",
    "    \"fontsize\": 17,\n",
    "    \"fontcolor\": \"#1565c0\",  # deep blue\n",
    "    \"bold\": True,\n",
    "    \"underline\": True,  # 👈 adds underline\n",
    "    \"padding\": \"10px\",\n",
    "    \"background\": True,\n",
    "    \"bg_color\": \"rgba(227,242,253,0.9)\",  # light blue background\n",
    "    \"border\": \"2px solid #1565c0\",\n",
    "    \"border_radius\": \"5px\",\n",
    "    \"position\": \"topright\",\n",
    "}\n",
    "\n",
    "m.add_text(\"Before: Mukuru wa Njenga Affordable Housing Project\", position=\"topleft\", bold=True)\n",
    "\n",
    "m.add_text(\"After - 2025\", position=\"topright\", bold=True)"
   ]
  },
  {
   "cell_type": "code",
   "execution_count": 6,
   "id": "0ee0ad8a",
   "metadata": {},
   "outputs": [],
   "source": [
    "m.split_map(\n",
    "    left_layer=\"mukuru.tif\",\n",
    "    right_layer=\"https://mt1.google.com/vt/lyrs=y&x={x}&y={y}&z={z}\",\n",
    ")"
   ]
  },
  {
   "cell_type": "code",
   "execution_count": 7,
   "id": "c9897f46",
   "metadata": {},
   "outputs": [],
   "source": [
    "m.save(\"AH.html\")"
   ]
  }
 ],
 "metadata": {
  "kernelspec": {
   "display_name": "webmap",
   "language": "python",
   "name": "python3"
  },
  "language_info": {
   "codemirror_mode": {
    "name": "ipython",
    "version": 3
   },
   "file_extension": ".py",
   "mimetype": "text/x-python",
   "name": "python",
   "nbconvert_exporter": "python",
   "pygments_lexer": "ipython3",
   "version": "3.13.5"
  }
 },
 "nbformat": 4,
 "nbformat_minor": 5
}
